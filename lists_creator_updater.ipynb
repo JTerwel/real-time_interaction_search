{
 "cells": [
  {
   "cell_type": "markdown",
   "metadata": {},
   "source": [
    "# This notebook is to make / update the lists used in querying objects each day\n",
    "\n",
    "### Creating new lists:\n",
    "- Go to the sources page on Fritz\n",
    "- Filter the table on Type (Ia & all Ia subtypes)\n",
    "- Download the csv (takes a while, but it's the fastest method I could find)\n",
    "- Follow the steps below for creating new lists\n",
    "- Put the lists in the required location for the real-time program to work properly\n",
    "\n",
    "Note: keep the csv file secure to reduce download time should the lists be remade at some point\n",
    "\n",
    "### Updating lists:\n",
    "- Check until what date objects are already saved\n",
    "- Go to Fritz and download the objects saved later than that (See above for notes)\n",
    "- Follow the steps below for updating lists\n",
    "- Replace the lists in the required location for the rea-time program to work properly\n",
    "\n",
    "Note: add the newly downloaded sources to the old csv file to reduce download time the next time lists are updated"
   ]
  },
  {
   "cell_type": "code",
   "execution_count": null,
   "metadata": {},
   "outputs": [],
   "source": [
    "#Useful imports and functions\n",
    "import pandas as pd\n",
    "from pathlib import Path\n",
    "from astropy import time\n",
    "import numpy as np\n",
    "from datetime import datetime\n",
    "import matplotlib.pyplot as plt\n",
    "\n",
    "def load_sources(path):\n",
    "    # Load the sources file retrieved from Fritz\n",
    "    sources = pd.read_csv(path, header=0,\n",
    "                          usecols=['id', 'ra [deg]', 'dec [deg]', 'redshift', 'classification', 'Saved at'])\n",
    "    sources.rename(columns={'id':'ztfname','ra [deg]':'ra','dec [deg]':'dec','Saved at':'saved_at'}, inplace=True)\n",
    "    sources['save_mjd'] = [time.Time(_).mjd for _ in sources.saved_at.values]\n",
    "    return sources\n",
    "\n",
    "def load_oldlists(paths):\n",
    "    # Load the old lists currently used in the real-time program to update them\n",
    "    oldlists = []\n",
    "    for i in paths:\n",
    "        oldlists.append(pd.read_csv(i, header=0))\n",
    "    return oldlists\n",
    "\n",
    "def save_lists(lists, saveloc):\n",
    "    # Save the new lists\n",
    "    for i in range(len(lists)):\n",
    "        lists[i].to_csv(saveloc/f'list_{i}.csv')\n",
    "    print(f'Lists saved on {datetime.now().date()} at {datetime.now().time()}')\n",
    "    return\n",
    "\n",
    "def restrict_age(sources, min_age=0, max_age=None):\n",
    "    # The 18+ restriction question, but for transients in days\n",
    "    mjd_now = time.Time(datetime.now()).mjd\n",
    "    if max_age == None:\n",
    "        return sources[sources.save_mjd<mjd_now-min_age].reset_index(drop=True)\n",
    "    else:\n",
    "        return sources[((sources.save_mjd<mjd_now-min_age) &\n",
    "                        (sources.save_mjd>mjd_now-max_age))].reset_index(drop=True)\n",
    "\n",
    "def transform_format(sources):\n",
    "    # Transform the DataFrame from the Fritz columns to those needed in the final lists\n",
    "    #Needed columns: name, ra, dec, last_checked_mjd, last_checked_nr (0 for now, updated when checked)\n",
    "    transformed_list = sources.drop(labels=['redshift', 'classification', 'saved_at', 'save_mjd'], axis=1)\n",
    "    transformed_list['last_checked_mjd'] = 0\n",
    "    transformed_list['last_checked_nr'] = 0\n",
    "    return transformed_list\n",
    "\n",
    "def distribute_sources(sources, n):\n",
    "    # Distribute the sources over n lists of the same size\n",
    "    # First shuffle the sample to make sure each subset more or less covers the entire sky evenly\n",
    "    sources = sources.sample(frac=1)\n",
    "    nr_sources = len(sources)\n",
    "    listsize = int(np.floor(nr_sources/n))\n",
    "    left = nr_sources - n*listsize\n",
    "    #Going to need left lists of size listsize+1 and n-left lists of size n\n",
    "    lists = []\n",
    "    for i in range(n):\n",
    "        if i < left:\n",
    "            lists.append(sources[i*(listsize+1):(i+1)*(listsize+1)])\n",
    "        else:\n",
    "            lists.append(sources[left*(listsize+1)+(i-left)*listsize:left*(listsize+1)+(i-left+1)*listsize])\n",
    "    return lists\n",
    "\n",
    "def add_to_existing_lists(oldlists, newlists):\n",
    "    # Add the newlists to the oldlists\n",
    "    #The first n & m have an object more, so add with an offset to make sure the 1st list isn't growing faster\n",
    "    #If there aren't the same amount of oldlists and newlists, don't do anything\n",
    "    if len(oldlists) != len(newlists):\n",
    "        print('Error: Not the same amount of lists')\n",
    "        return None\n",
    "    combined_lists = []\n",
    "    oldlens = [len(_) for _ in oldlists]\n",
    "    newlens = [len(_) for _ in newlists]\n",
    "    if oldlens[0] == oldlens[-1]: #all lists already had the same length, no offset needed\n",
    "        step = 0\n",
    "    else:\n",
    "        step = oldlens.index(oldlens[0]-1)\n",
    "    print(step)\n",
    "    for i in range(len(oldlists)):\n",
    "        combined_lists.append(pd.concat([oldlists[i], newlists[(i-step)%len(newlists)]], ignore_index=True))\n",
    "    return combined_lists\n",
    "\n",
    "def plot_list(i, j=None):\n",
    "    # Plot the source locations in list i\n",
    "    fig, ax = plt.subplots(subplot_kw={'projection': 'polar'})\n",
    "    ax.scatter(i.ra*np.pi/180, i.dec, color='b', marker='.')\n",
    "    if j is not None:\n",
    "        ax.scatter(j.ra*np.pi/180, j.dec, color='r', marker='*')\n",
    "    ax.set_rmin(90)\n",
    "    ax.set_rmax(-90)\n",
    "    plt.show()\n",
    "    return"
   ]
  },
  {
   "cell_type": "markdown",
   "metadata": {},
   "source": [
    "### Create new lists from scratch"
   ]
  },
  {
   "cell_type": "code",
   "execution_count": null,
   "metadata": {},
   "outputs": [],
   "source": [
    "# Read in file with sources\n",
    "source_loc = Path('')\n",
    "sources = load_sources(source_loc)"
   ]
  },
  {
   "cell_type": "code",
   "execution_count": null,
   "metadata": {},
   "outputs": [],
   "source": [
    "# Take the read-in sources, restrict their minimum age, reformat, and spread over the amount of lists needed\n",
    "list_nr = 28\n",
    "min_age = 100\n",
    "\n",
    "lists = distribute_sources(transform_format(restrict_age(sources, min_age=min_age)), list_nr)"
   ]
  },
  {
   "cell_type": "code",
   "execution_count": null,
   "metadata": {
    "scrolled": true
   },
   "outputs": [],
   "source": [
    "# Check if the lists are spread out evenly (more or less)\n",
    "for i in lists:\n",
    "    plot_list(i)"
   ]
  },
  {
   "cell_type": "code",
   "execution_count": null,
   "metadata": {},
   "outputs": [],
   "source": [
    "# Save the lists in the given location\n",
    "save_loc = Path('')\n",
    "for i in lists:\n",
    "    i.reset_index(drop=True, inplace=True)\n",
    "save_lists(lists, save_loc)"
   ]
  },
  {
   "cell_type": "markdown",
   "metadata": {},
   "source": [
    "### Add sources to existing lists"
   ]
  },
  {
   "cell_type": "code",
   "execution_count": null,
   "metadata": {},
   "outputs": [],
   "source": [
    "# Read in file with sources\n",
    "source_loc = Path('')\n",
    "sources = load_sources(source_loc)\n",
    "\n",
    "# Read in the current lists\n",
    "oldlistpaths = [Path(f'/list_{_}.csv') for _ in range(28)]\n",
    "oldlists = load_oldlists(oldlistpaths)"
   ]
  },
  {
   "cell_type": "code",
   "execution_count": null,
   "metadata": {},
   "outputs": [],
   "source": [
    "# Take the read-in sources, restrict their minimum age, reformat, and spread over the amount of lists needed\n",
    "list_nr = len(oldlists)\n",
    "min_age = 100\n",
    "max_age = \n",
    "\n",
    "newlists = distribute_sources(transform_format(restrict_age(sources, min_age=min_age, max_age=max_age)), list_nr)"
   ]
  },
  {
   "cell_type": "code",
   "execution_count": null,
   "metadata": {},
   "outputs": [],
   "source": [
    "# Combine the new and old lists\n",
    "combined_lists = add_to_existing_lists(oldlists, newlists)"
   ]
  },
  {
   "cell_type": "code",
   "execution_count": null,
   "metadata": {},
   "outputs": [],
   "source": [
    "# Check where the new sources are in each list\n",
    "for i in range(list_nr):\n",
    "    plot_list(oldlists[i], newlists[i])"
   ]
  },
  {
   "cell_type": "code",
   "execution_count": null,
   "metadata": {},
   "outputs": [],
   "source": [
    "# Save the lists in the given location\n",
    "save_loc = Path('')\n",
    "save_lists(lists, save_loc)"
   ]
  }
 ],
 "metadata": {
  "kernelspec": {
   "display_name": "Python 3",
   "language": "python",
   "name": "python3"
  },
  "language_info": {
   "codemirror_mode": {
    "name": "ipython",
    "version": 3
   },
   "file_extension": ".py",
   "mimetype": "text/x-python",
   "name": "python",
   "nbconvert_exporter": "python",
   "pygments_lexer": "ipython3",
   "version": "3.8.3"
  }
 },
 "nbformat": 4,
 "nbformat_minor": 5
}
